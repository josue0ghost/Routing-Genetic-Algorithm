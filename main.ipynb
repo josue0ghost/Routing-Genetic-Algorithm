{
 "cells": [
  {
   "cell_type": "code",
   "execution_count": null,
   "metadata": {},
   "outputs": [],
   "source": [
    "import random\n",
    "\n",
    "from deap import base\n",
    "from deap import creator\n",
    "from deap import tools\n",
    "\n",
    "import pandas as pd"
   ]
  },
  {
   "cell_type": "code",
   "execution_count": null,
   "metadata": {},
   "outputs": [],
   "source": [
    "creator.create(\"FitnessMin\", base.Fitness, weights=(1.0,))\n",
    "# cambiar list por una clase custom\n",
    "# una clase custom que tenga una secuencia aleatorio de POS dadas en data.csv\n",
    "creator.create(\"Individual\", list, fitness=creator.FitnessMin)"
   ]
  },
  {
   "cell_type": "code",
   "execution_count": null,
   "metadata": {},
   "outputs": [],
   "source": [
    "IND_SIZE = 10\n",
    "\n",
    "toolbox = base.Toolbox()\n",
    "toolbox.register(\"attribute\", random.random)\n",
    "toolbox.register(\"individual\", tools.initRepeat, creator.Individual, toolbox.attribute, n=IND_SIZE)\n",
    "toolbox.register(\"population\", tools.initRepeat, list, toolbox.individual)"
   ]
  },
  {
   "cell_type": "code",
   "execution_count": null,
   "metadata": {},
   "outputs": [],
   "source": [
    "def evaluate(individual):\n",
    "  # return a tuple\n",
    "  return sum(individual),\n",
    "\n",
    "toolbox.register(\"mate\", tools.cxTwoPoint)\n",
    "# mu = mean value, sigma = standart deviation, indpb = Independent probability for each attribute to be mutated\n",
    "toolbox.register(\"mutate\", tools.mutGaussian, mu=0, sigma=1, indpb=0.1)\n",
    "# tournsize = The number of individuals participating in each tournament\n",
    "toolbox.register(\"select\", tools.selTournament, tournsize=3)\n",
    "toolbox.register(\"evaluate\", evaluate)"
   ]
  },
  {
   "cell_type": "code",
   "execution_count": null,
   "metadata": {},
   "outputs": [],
   "source": [
    "population = toolbox.population(n=50)\n",
    "mate_probability = 0.5\n",
    "mutation_probability = 0.2\n",
    "number_of_generations = 40\n",
    "# Evaluate the entire population\n",
    "fitnesses = map(toolbox.evaluate, population)\n",
    "\n",
    "df = pd.DataFrame(population)\n",
    "df"
   ]
  },
  {
   "cell_type": "code",
   "execution_count": null,
   "metadata": {},
   "outputs": [],
   "source": [
    "for individual, fitness in zip(population, fitnesses):\n",
    "  individual.fitness.values = fitness"
   ]
  },
  {
   "cell_type": "code",
   "execution_count": null,
   "metadata": {},
   "outputs": [],
   "source": [
    "for generation in range(number_of_generations):\n",
    "  # Select the next generation individuals\n",
    "  offspring = toolbox.select(population, len(population))\n",
    "\n",
    "  # Clone the selected individuals\n",
    "  offspring = map(toolbox.clone, offspring)\n",
    "  offspring = list(offspring\n",
    "  )\n",
    "  # Apply crossover and mutation on the offspring\n",
    "  for child1, child2 in zip(offspring[::2], offspring[1::2]):\n",
    "    if random.random() < mate_probability:\n",
    "      toolbox.mate(child1, child2)\n",
    "      del child1.fitness.values\n",
    "      del child2.fitness.values\n",
    "\n",
    "  for mutant in offspring:\n",
    "    if random.random() < mutation_probability:\n",
    "      toolbox.mutate(mutant)\n",
    "      del mutant.fitness.values\n",
    "\n",
    "  # Evaluate the individuals with an invalid fitness\n",
    "  invalid_ind = [ind for ind in offspring if not ind.fitness.valid]\n",
    "  fitnesses = map(toolbox.evaluate, invalid_ind)\n",
    "  for ind, fit in zip(invalid_ind, fitnesses):\n",
    "    ind.fitness.values = fit\n",
    "\n",
    "  # The population is entirely replaced by the offspring\n",
    "  \n",
    "  population[:] = offspring"
   ]
  },
  {
   "cell_type": "code",
   "execution_count": null,
   "metadata": {},
   "outputs": [],
   "source": [
    "df = pd.DataFrame(population)\n",
    "df"
   ]
  },
  {
   "cell_type": "code",
   "execution_count": null,
   "metadata": {},
   "outputs": [],
   "source": []
  }
 ],
 "metadata": {
  "kernelspec": {
   "display_name": "Python 3",
   "language": "python",
   "name": "python3"
  },
  "language_info": {
   "codemirror_mode": {
    "name": "ipython",
    "version": 3
   },
   "file_extension": ".py",
   "mimetype": "text/x-python",
   "name": "python",
   "nbconvert_exporter": "python",
   "pygments_lexer": "ipython3",
   "version": "3.9.10"
  }
 },
 "nbformat": 4,
 "nbformat_minor": 2
}
