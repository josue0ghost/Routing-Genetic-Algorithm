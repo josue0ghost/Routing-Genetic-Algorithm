{
 "cells": [
  {
   "cell_type": "code",
   "execution_count": 15,
   "metadata": {},
   "outputs": [],
   "source": [
    "import classes\n",
    "import crossover\n",
    "import mutation\n",
    "import fitness\n",
    "import pandas as pd\n",
    "import numpy as np\n",
    "import random\n",
    "\n",
    "from deap import base, creator, tools"
   ]
  },
  {
   "cell_type": "code",
   "execution_count": 16,
   "metadata": {},
   "outputs": [],
   "source": [
    "# Get data from csv file\n",
    "def get_data(csv_file):\n",
    "  data_df = pd.read_csv(csv_file, dtype={\n",
    "    'pos_name': str,\n",
    "    'latitude': float,\n",
    "    'longitude': float,\n",
    "    'address': str,\n",
    "    'entree_time': int,\n",
    "    'unloading_time': int,\n",
    "    'journey2pos_time': int,\n",
    "    'delivery_time': int,\n",
    "    'journey2unloadingpoint_time': int,\n",
    "    'checkout_time': int,\n",
    "    'min_travels': int,\n",
    "    'max_travels': int,\n",
    "    'extra_times': int\n",
    "  })\n",
    "  \n",
    "  data = data_df.to_records(index=False).tolist()\n",
    "  \n",
    "  return data"
   ]
  },
  {
   "cell_type": "code",
   "execution_count": 17,
   "metadata": {},
   "outputs": [],
   "source": [
    "# shuffle the Point_of_Sale list of an individual\n",
    "def shuffle_sequence(individual):\n",
    "  random.shuffle(individual)\n",
    "  return individual"
   ]
  },
  {
   "cell_type": "code",
   "execution_count": 18,
   "metadata": {},
   "outputs": [],
   "source": [
    "# Read CSV and create a initial list of Point_of_Sale\n",
    "readed_points_of_sale = get_data('data.csv')\n",
    "\n",
    "# Create a list of Point_of_Sale\n",
    "pos_list = [\n",
    "  classes.Point_of_Sale(\n",
    "    point[0], point[1], point[2], point[3],\n",
    "    point[4], point[5], point[6], point[7],\n",
    "    point[8], point[9], point[10], point[11], point[12]\n",
    "  )\n",
    "  for point in readed_points_of_sale\n",
    "]"
   ]
  },
  {
   "cell_type": "code",
   "execution_count": null,
   "metadata": {},
   "outputs": [],
   "source": [
    "distance_df = mutation.build_distance_dataframe(pos_list)\n",
    "distance_df"
   ]
  },
  {
   "cell_type": "code",
   "execution_count": null,
   "metadata": {},
   "outputs": [],
   "source": [
    "# Using DEAP library\n",
    "# weights is a tuple of -1.0s which means we want to Minimize two values: Distance and Time\n",
    "creator.create(\"FitnessMin\", base.Fitness, weights=(-1.0,-1.0))\n",
    "creator.create(\"Individual\", list, fitness=creator.FitnessMin)\n",
    "\n",
    "# initializing DEAP's toolbox\n",
    "toolbox = base.Toolbox()\n",
    "# individual's attribute sequence will shuffle a list of POS at creation\n",
    "toolbox.register(\"sequence\", shuffle_sequence, pos_list)\n",
    "# individual inherits from Individual and will have the attribute 'sequence'\n",
    "toolbox.register(\"individual\", tools.initIterate, creator.Individual, toolbox.sequence)\n",
    "# population will be a list of individuals\n",
    "toolbox.register(\"population\", tools.initRepeat, list, toolbox.individual)\n",
    "# mate function from ./crossover.py\n",
    "toolbox.register(\"mate\", crossover.cxOrdered)\n",
    "# mutation function that uses DEAP's function mutShuffleIndexes. \n",
    "# indpb is the probability of each attribute to be exchanged to another position\n",
    "toolbox.register(\"mutate\", mutation.smart_mutation_with_df, distance_df=distance_df)\n",
    "# toolbox.register(\"mutate\", tools.mutShuffleIndexes, indpb=0.1)\n",
    "# tournsize = The number of individuals participating in each tournament\n",
    "toolbox.register(\"select\", tools.selTournament, tournsize=2)\n",
    "# fitness function from ./crossover.py\n",
    "toolbox.register(\"evaluate\", fitness.evaluate_osrm)"
   ]
  },
  {
   "cell_type": "code",
   "execution_count": 21,
   "metadata": {},
   "outputs": [],
   "source": [
    "# Main Genetic Algorithm\n",
    "def main(matepb, mutpb, ngen, npop):\n",
    "  \"\"\"Executes the main genetic algorithm.\n",
    "  :param matepb: Probability that two individuals cross.\n",
    "  :param mutpb: Probability that an individual mutates.\n",
    "  :param ngen: Number of generations the population will have\n",
    "  :param npop: How many individuals will make up the population\n",
    "  :returns: a :term:`list` containing the las generation of a population\n",
    "  \"\"\"\n",
    "\n",
    "  population = toolbox.population(n=npop)\n",
    "  # Evaluate the entire population\n",
    "  fitnesses = map(toolbox.evaluate, population)\n",
    "\n",
    "  for individual, fitness in zip(population, fitnesses):\n",
    "    individual.fitness.values = fitness\n",
    "\n",
    "  for generation in range(ngen):\n",
    "    # Select the next generation individuals\n",
    "    offspring = toolbox.select(population, len(population))\n",
    "\n",
    "    # Clone the selected individuals\n",
    "    offspring = list(map(toolbox.clone, offspring))\n",
    "\n",
    "    # Apply crossover and mutation on the offspring\n",
    "    for child1, child2 in zip(offspring[::2], offspring[1::2]):\n",
    "      if random.random() < matepb:\n",
    "        toolbox.mate(child1, child2)\n",
    "        # Invalidates the fitness of the offspring after crossing\n",
    "        del child1.fitness.values\n",
    "        del child2.fitness.values\n",
    "\n",
    "    for mutant in offspring:\n",
    "      if random.random() < mutpb:\n",
    "        toolbox.mutate(mutant)\n",
    "        # Invalidates the fitness of the mutant after mutation\n",
    "        del mutant.fitness.values\n",
    "\n",
    "    # Evaluate the individuals with an invalid fitness\n",
    "    invalid_ind = [ind for ind in offspring if not ind.fitness.valid]\n",
    "    fitnesses = map(toolbox.evaluate, invalid_ind)\n",
    "    for ind, fit in zip(invalid_ind, fitnesses):\n",
    "      ind.fitness.values = fit\n",
    "\n",
    "    elite = tools.selBest(population, 1)  # Keep the best individual\n",
    "\n",
    "    # The population is entirely replaced by the offspring\n",
    "    population[:] = offspring\n",
    "    population[:1] = elite\n",
    "  \n",
    "  return population  "
   ]
  },
  {
   "cell_type": "code",
   "execution_count": 22,
   "metadata": {},
   "outputs": [],
   "source": [
    "# GA Execution\n",
    "# (YYYY-MM-DD)T(HH:mm:ss.ms)(UTC-6)\n",
    "crossover.departure_time = \"2024-09-27T09:00:00.000000-06:00\"\n",
    "\n",
    "pop = main(matepb=0.5, mutpb=0.5, ngen=100, npop=100)"
   ]
  },
  {
   "cell_type": "code",
   "execution_count": null,
   "metadata": {},
   "outputs": [],
   "source": [
    "# Show results\n",
    "def extract_names(individual):\n",
    "    return [pos.name for pos in individual]\n",
    "\n",
    "pop_data = np.array([extract_names(ind) for ind in pop])\n",
    "pop_df = pd.DataFrame(pop_data)\n",
    "\n",
    "fitnesses_list = []\n",
    "for ind in pop:\n",
    "  fitnesses_list.append(ind.fitness.values)\n",
    "\n",
    "fitness_df = pd.DataFrame(fitnesses_list, columns=['Distance', 'Time'])\n",
    "\n",
    "result_df = pd.concat([pop_df, fitness_df], axis=1)\n",
    "result_df.value_counts().to_frame(name=\"f\")"
   ]
  },
  {
   "cell_type": "code",
   "execution_count": null,
   "metadata": {},
   "outputs": [],
   "source": [
    "routes_df = pd.DataFrame(fitness.google_res_dict).transpose()\n",
    "routes_df.to_clipboard()\n",
    "routes_df"
   ]
  },
  {
   "cell_type": "code",
   "execution_count": null,
   "metadata": {},
   "outputs": [],
   "source": [
    "routes_df = pd.DataFrame(fitness.osmr_res_dict).transpose()\n",
    "routes_df.to_clipboard()\n",
    "routes_df"
   ]
  }
 ],
 "metadata": {
  "kernelspec": {
   "display_name": "Python 3",
   "language": "python",
   "name": "python3"
  },
  "language_info": {
   "codemirror_mode": {
    "name": "ipython",
    "version": 3
   },
   "file_extension": ".py",
   "mimetype": "text/x-python",
   "name": "python",
   "nbconvert_exporter": "python",
   "pygments_lexer": "ipython3",
   "version": "3.9.10"
  }
 },
 "nbformat": 4,
 "nbformat_minor": 2
}
