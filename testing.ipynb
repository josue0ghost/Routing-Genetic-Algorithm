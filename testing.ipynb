{
 "cells": [
  {
   "cell_type": "code",
   "execution_count": null,
   "metadata": {},
   "outputs": [],
   "source": [
    "import csv\n",
    "import random\n",
    "import classes\n",
    "import crossover\n",
    "import pandas as pd\n",
    "\n",
    "from deap import base\n",
    "from deap import creator\n",
    "from deap import tools"
   ]
  },
  {
   "cell_type": "code",
   "execution_count": null,
   "metadata": {},
   "outputs": [],
   "source": [
    "# Get data from csv file\n",
    "def get_data(csv_file):\n",
    "  data = []\n",
    "  with open(csv_file, 'r') as file:\n",
    "    csv_reader = csv.reader(file)\n",
    "    next(csv_reader)  # Skip first line (headers)\n",
    "    for row in csv_reader:\n",
    "      pos_name = row[0]\n",
    "      latitude = float(row[1])\n",
    "      longitude = float(row[2])\n",
    "      address = row[3]\n",
    "      entree_time = int(row[4])\n",
    "      unloading_time = int(row[5])\n",
    "      journey2pos_time = int(row[6])\n",
    "      delivery_time = int(row[7])\n",
    "      journey2unloadingpoint_time = int(row[8])\n",
    "      checkout_time = int(row[9])\n",
    "      min_travels = int(row[10])\n",
    "      max_travels = int(row[11])\n",
    "      extra_times = int(row[12])\n",
    "\n",
    "      data.append((pos_name, latitude, longitude, address, \n",
    "        entree_time, unloading_time, journey2pos_time, delivery_time, journey2unloadingpoint_time, checkout_time,\n",
    "        min_travels, max_travels, extra_times\n",
    "      ))\n",
    "  return data"
   ]
  },
  {
   "cell_type": "code",
   "execution_count": null,
   "metadata": {},
   "outputs": [],
   "source": [
    "def shuffle_pos(pos):\n",
    "  random.shuffle(pos)\n",
    "  return pos"
   ]
  },
  {
   "cell_type": "code",
   "execution_count": null,
   "metadata": {},
   "outputs": [],
   "source": [
    "points_of_sale = get_data('data.csv')\n",
    "# Point_of_Sale list\n",
    "pos = []\n",
    "for point in points_of_sale:\n",
    "  pos.append(classes.Point_of_Sale(point[0], point[1], point[2], point[3],\n",
    "    point[4], point[5], point[6], point[7], point[8], point[9], \n",
    "    point[10], point[11], point[12]\n",
    "  ))"
   ]
  },
  {
   "cell_type": "code",
   "execution_count": null,
   "metadata": {},
   "outputs": [],
   "source": [
    "# weights is a tuple of -1.0s which means we want to Minimize two values: Distance and Time\n",
    "creator.create(\"FitnessMin\", base.Fitness, weights=(-1.0,-1.0,))\n",
    "creator.create(\"Individual\", list, fitness=creator.FitnessMin)\n",
    "\n",
    "toolbox = base.Toolbox()\n",
    "# individual's attribute sequence will shuffle a list of POS at creation\n",
    "toolbox.register(\"sequence\", shuffle_pos, pos)\n",
    "toolbox.register(\"individual\", tools.initIterate, creator.Individual, toolbox.sequence)\n",
    "toolbox.register(\"population\", tools.initRepeat, list, toolbox.individual)"
   ]
  },
  {
   "cell_type": "code",
   "execution_count": null,
   "metadata": {},
   "outputs": [],
   "source": [
    "#https://deap.readthedocs.io/en/master/api/tools.html#id2\n",
    "#https://en.wikipedia.org/wiki/Crossover_(genetic_algorithm)\n",
    "#file:///C:/Users/llaaj/AppData/Local/Temp/MicrosoftEdgeDownloads/b9e8d235-e495-4ff4-86e8-6678782e06ba/download.pdf\n",
    "toolbox.register(\"mate\", crossover.cxPartialyMatched)\n",
    "toolbox.register(\"mutate\", tools.mutShuffleIndexes, indpb=0.1)\n",
    "# tournsize = The number of individuals participating in each tournament\n",
    "toolbox.register(\"select\", tools.selTournament, tournsize=3)\n",
    "toolbox.register(\"evaluate\", crossover.evaluate)"
   ]
  },
  {
   "cell_type": "code",
   "execution_count": null,
   "metadata": {},
   "outputs": [],
   "source": [
    "def main():\n",
    "  mate_probability = 0.5\n",
    "  mutation_probability = 0.2\n",
    "  number_of_generations = 100\n",
    "  population = toolbox.population(n=100)\n",
    "  # Evaluate the entire population\n",
    "  fitnesses = map(toolbox.evaluate, population)\n",
    "\n",
    "  for individual, fitness in zip(population, fitnesses):\n",
    "    individual.fitness.values = fitness\n",
    "\n",
    "  for generation in range(number_of_generations):\n",
    "    # Select the next generation individuals\n",
    "    offspring = toolbox.select(population, len(population))\n",
    "\n",
    "    # Clone the selected individuals\n",
    "    offspring = map(toolbox.clone, offspring)\n",
    "    offspring = list(offspring)\n",
    "    # Apply crossover and mutation on the offspring\n",
    "    for child1, child2 in zip(offspring[::2], offspring[1::2]):\n",
    "      if random.random() < mate_probability:\n",
    "        toolbox.mate(child1, child2)\n",
    "        del child1.fitness.values\n",
    "        del child2.fitness.values\n",
    "\n",
    "    for mutant in offspring:\n",
    "      if random.random() < mutation_probability:\n",
    "        toolbox.mutate(mutant)\n",
    "        del mutant.fitness.values\n",
    "\n",
    "    # Evaluate the individuals with an invalid fitness\n",
    "    invalid_ind = [ind for ind in offspring if not ind.fitness.valid]\n",
    "    fitnesses = map(toolbox.evaluate, invalid_ind)\n",
    "    for ind, fit in zip(invalid_ind, fitnesses):\n",
    "      ind.fitness.values = fit\n",
    "\n",
    "    # The population is entirely replaced by the offspring\n",
    "    \n",
    "    population[:] = offspring\n",
    "\n",
    "  return population  "
   ]
  },
  {
   "cell_type": "code",
   "execution_count": null,
   "metadata": {},
   "outputs": [],
   "source": [
    "pop = main()"
   ]
  },
  {
   "cell_type": "code",
   "execution_count": null,
   "metadata": {},
   "outputs": [],
   "source": [
    "pd.set_option('display.max_rows', None)\n",
    "pop_df = pd.DataFrame(pop, columns=['POS1', 'POS2', 'POS3'])\n",
    "\n",
    "fitnesses_list = []\n",
    "for ind in pop:\n",
    "  fitnesses_list.append(ind.fitness.values)\n",
    "\n",
    "fitness_df = pd.DataFrame(fitnesses_list, columns=['Distance', 'Time'])\n",
    "\n",
    "result_df = pd.concat([pop_df, fitness_df], axis=1)\n",
    "result_df"
   ]
  },
  {
   "cell_type": "code",
   "execution_count": null,
   "metadata": {},
   "outputs": [],
   "source": [
    "\n",
    "dict_df = pd.DataFrame(crossover.routes_responses_dict)\n",
    "dict_df.transpose()"
   ]
  }
 ],
 "metadata": {
  "kernelspec": {
   "display_name": "Python 3 (ipykernel)",
   "language": "python",
   "name": "python3"
  },
  "language_info": {
   "codemirror_mode": {
    "name": "ipython",
    "version": 3
   },
   "file_extension": ".py",
   "mimetype": "text/x-python",
   "name": "python",
   "nbconvert_exporter": "python",
   "pygments_lexer": "ipython3",
   "version": "3.9.10"
  }
 },
 "nbformat": 4,
 "nbformat_minor": 2
}
